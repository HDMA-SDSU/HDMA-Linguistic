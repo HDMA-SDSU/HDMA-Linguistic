{
 "cells": [
  {
   "cell_type": "code",
   "execution_count": 57,
   "metadata": {
    "collapsed": true,
    "deletable": true,
    "editable": true
   },
   "outputs": [],
   "source": [
    "import pandas as pd\n",
    "import numpy as np\n",
    "from collections import Counter\n",
    "from cytoolz import concat\n",
    "import os\n",
    "import re\n",
    "import sys\n",
    "reload(sys)\n",
    "sys.setdefaultencoding('utf8')\n",
    "from nltk.corpus import stopwords\n",
    "\n",
    "def anger(l):\n",
    "    x = [w for w in re.findall(r'\\bliar\\b|\\bliars\\b|\\blying\\b|\\blies\\b|\\bhypocrite\\b|\\bhypocrites\\b|\\bhypocrisy\\b|\\bhypocritical\\b|\\basshole\\b|\\bassholes\\b|\\bbullshit\\b|\\bdisgrace\\b|\\bdisgraces\\b|\\bdisgraced\\b|\\bdisgraceful\\b|\\bstfu\\b|\\bdisgusting\\b|\\bdisgusted\\b|\\bdisgusts\\b|\\bscum\\b|\\binfuriate\\b|\\binfuriates\\b|\\binfuriating',l)]\n",
    "    a = [w for w in re.findall(r'\\bfuck you\\b|\\bthe fuck up\\b|\\bpiece of shit\\b|\\bgo fuck yourself\\b',l)]\n",
    "    b = [w for w in re.findall(r'\\b(piss)\\b.*off',l)]\n",
    "    c = [w for w in re.findall(r'\\boff\\b.*\\b(piss)\\b',l)]\n",
    "    d = [w for w in re.findall(r'\\b(fuck)\\b.*\\boff\\b',l)]\n",
    "    e = [w for w in re.findall(r'\\boff\\b.*\\b(fuck)\\b',l)]\n",
    "    z = []\n",
    "    lists = [x,a,b,c,d,e,]\n",
    "    for q in lists:\n",
    "        for s in q:\n",
    "            z.append(s)\n",
    "    if len(z) > 0:\n",
    "        return True\n",
    "    else:\n",
    "        return False\n",
    "    \n",
    "keylist = ['liar','liars','lying','lies', \n",
    "           'bullshit', \n",
    "          'disgusting', 'disgusted','disgusts',\n",
    "          'fuck',\n",
    "          'asshole','assholes',\n",
    "          'hypocrite','hypocrites','hypocrisy','hypocritical',\n",
    "          'stfu',\n",
    "          'piss','pissed','off',\n",
    "          'disgrace','disgraces','disgraced','disgraceful',\n",
    "          'up',\n",
    "          'piece','shit',\n",
    "          'scum',\n",
    "          'infuriate','infuriates','infuriating','infuriated',\n",
    "          'go', 'yourself']\n",
    "stop = stopwords.words('english') + keylist\n",
    "\n",
    "#See note below if the resulting document contains very few words\n",
    "def angerPMI(filepath):\n",
    "    df = pd.read_excel(filepath)\n",
    "    df['bow'] = df['TEXT'].str.lower().str.replace(r'(https?://.+|[^\\w#@]+|\\d+)+',' ').str.split()\n",
    "    df = df[df['bow'].isnull()==False]\n",
    "    df = df[df['TEXT'].str.contains('HDMA')==False]\n",
    "    df = df[(df['SOURCE'].str.contains('bot', case=False)==False) | (df['SOURCE'].str.contains('tweetbot', case=False)==True)]\n",
    "    df = df[df['TEXT'].str.contains('FALSE')==False]\n",
    "    df = df[df['TEXT'].str.contains('TRUE')==False].copy()\n",
    "    df['Anger'] = df['TEXT'].str.lower().apply(anger)\n",
    "    dfangry = df[df['Anger']==True]\n",
    "    all = pd.value_counts(list(concat(df['bow'])))\n",
    "    freq = pd.DataFrame({'All':all})\n",
    "    A = pd.value_counts(list(concat(dfangry['bow'])))\n",
    "    freq['Angry'] = A\n",
    "    freq['PMI'] = np.log2((freq['Angry']*np.sum(freq['All'])) / (freq['All']*np.sum(freq['Angry'])))\n",
    "    #The limit below may need to be changed to a smaller number for small datasets or those with few angry tweets\n",
    "    freq2 = freq[freq['Angry']>10]\n",
    "    freq2.sort_values(by='PMI',ascending=False)\n",
    "    words = [w for w in freq2.index.values if w not in stop]\n",
    "    freq3 = freq2.loc[words]\n",
    "    name = os.path.basename(filepath).split('.')[0] + ' anger PMI.csv'\n",
    "    freq3.sort_values(by='PMI',ascending=False).to_csv(os.path.join(os.path.dirname(filepath),name))"
   ]
  },
  {
   "cell_type": "code",
   "execution_count": 58,
   "metadata": {
    "collapsed": false,
    "deletable": true,
    "editable": true
   },
   "outputs": [],
   "source": [
    "angerPMI('INSERT FILEPATH')"
   ]
  }
 ],
 "metadata": {
  "kernelspec": {
   "display_name": "Python 2",
   "language": "python",
   "name": "python2"
  },
  "language_info": {
   "codemirror_mode": {
    "name": "ipython",
    "version": 2
   },
   "file_extension": ".py",
   "mimetype": "text/x-python",
   "name": "python",
   "nbconvert_exporter": "python",
   "pygments_lexer": "ipython2",
   "version": "2.7.11"
  }
 },
 "nbformat": 4,
 "nbformat_minor": 2
}
