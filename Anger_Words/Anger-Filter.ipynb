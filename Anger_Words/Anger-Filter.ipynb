{
 "cells": [
  {
   "cell_type": "code",
   "execution_count": 2,
   "metadata": {
    "collapsed": true,
    "deletable": true,
    "editable": true
   },
   "outputs": [],
   "source": [
    "import pandas as pd\n",
    "import numpy as np\n",
    "import re\n",
    "import os\n",
    "import sys\n",
    "reload(sys)\n",
    "sys.setdefaultencoding('utf8')\n",
    "\n",
    "def anger(l):\n",
    "    x = [w for w in re.findall(r'\\bliar\\b|\\bliars\\b|\\blying\\b|\\blies\\b|\\bhypocrite\\b|\\bhypocrites\\b|\\bhypocrisy\\b|\\bhypocritical\\b|\\basshole\\b|\\bassholes\\b|\\bbullshit\\b|\\bdisgrace\\b|\\bdisgraces\\b|\\bdisgraced\\b|\\bdisgraceful\\b|\\bstfu\\b|\\bdisgusting\\b|\\bdisgusted\\b|\\bdisgusts\\b|\\bscum\\b|\\binfuriate\\b|\\binfuriates\\b|\\binfuriating',l)]\n",
    "    a = [w for w in re.findall(r'\\bfuck you\\b|\\bthe fuck up\\b|\\bpiece of shit\\b|\\bgo fuck yourself\\b',l)]\n",
    "    b = [w for w in re.findall(r'\\b(piss)\\b.*off',l)]\n",
    "    c = [w for w in re.findall(r'\\boff\\b.*\\b(piss)\\b',l)]\n",
    "    d = [w for w in re.findall(r'\\b(fuck)\\b.*\\boff\\b',l)]\n",
    "    e = [w for w in re.findall(r'\\boff\\b.*\\b(fuck)\\b',l)]\n",
    "    z = []\n",
    "    lists = [x,a,b,c,d,e,]\n",
    "    for q in lists:\n",
    "        for s in q:\n",
    "            z.append(s)\n",
    "    if len(z) > 0:\n",
    "        return True\n",
    "    else:\n",
    "        return False\n",
    "    \n",
    "def anger_(l):\n",
    "    x = [w for w in re.findall(r'\\bliar\\b|\\bliars\\b|\\blying\\b|\\blies\\b|\\bhypocrite\\b|\\bhypocrites\\b|\\bhypocrisy\\b|\\bhypocritical\\b|\\basshole\\b|\\bassholes\\b|\\bbullshit\\b|\\bdisgrace\\b|\\bdisgraces\\b|\\bdisgraced\\b|\\bdisgraceful\\b|\\bstfu\\b|\\bdisgusting\\b|\\bdisgusted\\b|\\bdisgusts\\b|\\bscum\\b|\\binfuriate\\b|\\binfuriates\\b|\\binfuriating',l)]\n",
    "    a = [w for w in re.findall(r'\\bfuck you\\b|\\bthe fuck up\\b|\\bpiece of shit\\b|\\bgo fuck yourself\\b',l)]\n",
    "    b = [w for w in re.findall(r'\\b(piss)\\b.*off',l)]\n",
    "    c = [w for w in re.findall(r'\\boff\\b.*\\b(piss)\\b',l)]\n",
    "    d = [w for w in re.findall(r'\\b(fuck)\\b.*\\boff\\b',l)]\n",
    "    e = [w for w in re.findall(r'\\boff\\b.*\\b(fuck)\\b',l)]\n",
    "    z = []\n",
    "    lists = [x,a,b,c,d,e,]\n",
    "    for q in lists:\n",
    "        for s in q:\n",
    "            z.append(s)\n",
    "    return z"
   ]
  },
  {
   "cell_type": "code",
   "execution_count": 3,
   "metadata": {
    "collapsed": true,
    "deletable": true,
    "editable": true
   },
   "outputs": [],
   "source": [
    "#Mark angry tweets with \"True.\" Save all tweets\n",
    "def angertag(filepath):\n",
    "    df = pd.read_excel(filepath)\n",
    "    df['bow'] = df['TEXT'].str.lower().str.replace(r'(https?://.+|[^\\w#@]+|\\d+)+',' ').str.split()\n",
    "    df = df[df['bow'].isnull()==False].copy()\n",
    "    df = df[df['TEXT'].str.contains('HDMA')==False].copy()\n",
    "    df = df[(df['SOURCE'].str.contains('bot', case=False)==False) | (df['SOURCE'].str.contains('tweetbot', case=False)==True)]\n",
    "    df = df[df['TEXT'].str.contains('FALSE')==False].copy()\n",
    "    df = df[df['TEXT'].str.contains('TRUE')==False].copy()\n",
    "    df['Anger'] = df['TEXT'].str.lower().apply(anger)\n",
    "    name = os.path.basename(filepath).split('.')[0] + ' with tagged angry tweets.csv'\n",
    "    df.to_csv(os.path.join(os.path.dirname(filepath),name))\n",
    "\n",
    "#Save only angry tweets    \n",
    "def angerfilter(filepath):\n",
    "    df = pd.read_excel(filepath)\n",
    "    df['bow'] = df['TEXT'].str.lower().str.replace(r'(https?://.+|[^\\w#@]+|\\d+)+',' ').str.split()\n",
    "    df = df[df['bow'].isnull()==False].copy()\n",
    "    df = df[df['TEXT'].str.contains('HDMA')==False].copy()\n",
    "    df = df[(df['SOURCE'].str.contains('bot', case=False)==False) | (df['SOURCE'].str.contains('tweetbot', case=False)==True)]\n",
    "    df = df[df['TEXT'].str.contains('FALSE')==False].copy()\n",
    "    df = df[df['TEXT'].str.contains('TRUE')==False].copy()\n",
    "    df['Anger'] = df['TEXT'].str.lower().apply(anger)\n",
    "    dfangry = df[df['Anger']==True]\n",
    "    name = os.path.basename(filepath).split('.')[0] + ' angry tweets.csv'\n",
    "    dfangry.to_csv(os.path.join(os.path.dirname(filepath),name))\n",
    "\n",
    "#Save all tweets with a column of anger words\n",
    "def angerwordtag(filepath):\n",
    "    df = pd.read_excel(filepath)\n",
    "    df['bow'] = df['TEXT'].str.lower().str.replace(r'(https?://.+|[^\\w#@]+|\\d+)+',' ').str.split()\n",
    "    df = df[df['bow'].isnull()==False]\n",
    "    df = df[df['TEXT'].str.contains('HDMA')==False]\n",
    "    df = df[(df['SOURCE'].str.contains('bot', case=False)==False) | (df['SOURCE'].str.contains('tweetbot', case=False)==True)]\n",
    "    df = df[df['TEXT'].str.contains('FALSE')==False]\n",
    "    df = df[df['TEXT'].str.contains('TRUE')==False].copy()\n",
    "    df['Anger'] = df['TEXT'].str.lower().apply(anger_)\n",
    "    name = os.path.basename(filepath).split('.')[0] + ' with anger words.csv'\n",
    "    df.to_csv(os.path.join(os.path.dirname(filepath),name))\n",
    "    \n",
    "def processfolder(directory, function):\n",
    "    for filename in os.listdir(directory):\n",
    "        if filename.endswith(\".xlsx\"):\n",
    "            function(os.path.join(directory, filename))\n",
    "            continue\n",
    "        else:\n",
    "            continue"
   ]
  },
  {
   "cell_type": "code",
   "execution_count": null,
   "metadata": {
    "collapsed": true
   },
   "outputs": [],
   "source": []
  }
 ],
 "metadata": {
  "kernelspec": {
   "display_name": "Python 2",
   "language": "python",
   "name": "python2"
  },
  "language_info": {
   "codemirror_mode": {
    "name": "ipython",
    "version": 2
   },
   "file_extension": ".py",
   "mimetype": "text/x-python",
   "name": "python",
   "nbconvert_exporter": "python",
   "pygments_lexer": "ipython2",
   "version": "2.7.11"
  }
 },
 "nbformat": 4,
 "nbformat_minor": 2
}
