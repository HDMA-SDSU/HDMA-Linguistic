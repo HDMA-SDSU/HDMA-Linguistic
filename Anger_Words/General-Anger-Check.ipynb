{
 "cells": [
  {
   "cell_type": "code",
   "execution_count": 1,
   "metadata": {
    "collapsed": true,
    "deletable": true,
    "editable": true
   },
   "outputs": [],
   "source": [
    "import pandas as pd\n",
    "import numpy as np\n",
    "from collections import Counter\n",
    "from cytoolz import concat\n",
    "import re\n",
    "import os\n",
    "\n",
    "def anger_(l):\n",
    "    x = [w for w in re.findall(r'\\bliar\\b|\\bliars\\b|\\blying\\b|\\blies\\b|\\bhypocrite\\b|\\bhypocrites\\b|\\bhypocrisy\\b|\\bhypocritical\\b|\\basshole\\b|\\bassholes\\b|\\bbullshit\\b|\\bdisgrace\\b|\\bdisgraces\\b|\\bdisgraced\\b|\\bdisgraceful\\b|\\bstfu\\b|\\bdisgusting\\b|\\bdisgusted\\b|\\bdisgusts\\b|\\bscum\\b|\\binfuriate\\b|\\binfuriates\\b|\\binfuriating',l)]\n",
    "    a = [w for w in re.findall(r'\\bfuck you\\b|\\bthe fuck up\\b|\\bpiece of shit\\b|\\bgo fuck yourself\\b',l)]\n",
    "    b = [w for w in re.findall(r'\\b(piss)\\b.*off',l)]\n",
    "    c = [w for w in re.findall(r'\\boff\\b.*\\b(piss)\\b',l)]\n",
    "    d = [w for w in re.findall(r'\\b(fuck)\\b.*\\boff\\b',l)]\n",
    "    e = [w for w in re.findall(r'\\boff\\b.*\\b(fuck)\\b',l)]\n",
    "    z = []\n",
    "    lists = [x,a,b,c,d,e,]\n",
    "    for q in lists:\n",
    "        for s in q:\n",
    "            z.append(s)\n",
    "    return z\n",
    "\n",
    "#Count occurrences of anger words\n",
    "def angertopic(filepath):\n",
    "    df = pd.read_excel(filepath)\n",
    "    df['bow'] = df['TEXT'].str.lower().str.replace(r'(https?://.+|[^\\w#@]+|\\d+)+',' ').str.split()\n",
    "    df = df[df['bow'].isnull()==False]\n",
    "    df = df[df['TEXT'].str.contains('HDMA')==False]\n",
    "    df = df[df['LANGUAGE']=='en'].copy()\n",
    "    df = df[(df['SOURCE'].str.contains('bot', case=False)==False) | (df['SOURCE'].str.contains('tweetbot', case=False)==True)]\n",
    "    df = df[df['TEXT'].str.contains('FALSE')==False].copy()\n",
    "    df = df[df['TEXT'].str.contains('TRUE')==False].copy()\n",
    "    df['anger words'] = df['TEXT'].str.lower().apply(anger_)\n",
    "    words = list(concat(df['anger words']))\n",
    "    wordcounts = Counter(words)\n",
    "    if wordcounts == Counter():\n",
    "        dic = {'Anger Words': 0, 'Tweet Count': len(df)}\n",
    "        counts = pd.DataFrame.from_dict(dic,orient='index')\n",
    "        counts.columns = ['Count']\n",
    "    else:\n",
    "        keywords = {'liar':0, 'liars':0,'lying':0, 'lies':0, \n",
    "                'hypocrite':0,'hypocrites':0, 'hypocrisy':0, 'hypocritical':0,\n",
    "                'asshole':0, 'assholes':0, 'bullshit':0, \n",
    "                'fuck':0, 'fuck you':0, \n",
    "                'disgrace':0, 'disgraces':0, 'disgraced':0, 'disgraceful':0, \n",
    "                'piece of shit':0, 'the fuck up':0, \n",
    "                'piss':0, 'stfu':0,\n",
    "                'disgusting':0, 'disgusted':0, 'disgusts':0, \n",
    "                'go fuck yourself':0, 'scum':0, \n",
    "                'infuriate':0, 'infuriates':0, 'infuriating':0, 'infuriated':0}\n",
    "        kw = pd.DataFrame.from_dict(keywords, orient='index')\n",
    "        wc = pd.DataFrame.from_dict(wordcounts, orient='index')\n",
    "        counts = kw.join(wc, how='left', lsuffix = 'kw', rsuffix = 'wc').fillna(0)\n",
    "        counts['Counts'] = counts['0kw'] + counts['0wc']\n",
    "        del counts['0kw']\n",
    "        del counts['0wc']\n",
    "        if 'fuck' in counts.index:\n",
    "            counts.index.set_value(counts.index, 'fuck', 'fuck off')\n",
    "        if 'piss' in counts.index:\n",
    "            counts.index.set_value(counts.index, 'piss', 'piss(ed) off')\n",
    "        counts.loc['~Total'] = counts.sum()\n",
    "        counts.loc['~Tweet Count'] = len(df)\n",
    "        counts['Percent'] = (counts['Counts']/len(df))*100\n",
    "    name = os.path.basename(filepath).split('.')[0] + ' anger.csv'\n",
    "    counts.sort_index(axis=0, ascending=True).to_csv(os.path.join(os.path.dirname(filepath),name))\n",
    "\n",
    "def angertopics(directory):\n",
    "    for filename in os.listdir(directory):\n",
    "        if filename.endswith(\".xlsx\"):\n",
    "            angertopic(os.path.join(directory, filename))\n",
    "            continue\n",
    "        else:\n",
    "            continue"
   ]
  },
  {
   "cell_type": "code",
   "execution_count": 3,
   "metadata": {
    "collapsed": true,
    "deletable": true,
    "editable": true
   },
   "outputs": [],
   "source": [
    "angertopic('INSERT FILEPATH')"
   ]
  },
  {
   "cell_type": "code",
   "execution_count": null,
   "metadata": {
    "collapsed": true,
    "deletable": true,
    "editable": true
   },
   "outputs": [],
   "source": [
    "angertopics('DIRECTORY')"
   ]
  }
 ],
 "metadata": {
  "kernelspec": {
   "display_name": "Python 2",
   "language": "python",
   "name": "python2"
  },
  "language_info": {
   "codemirror_mode": {
    "name": "ipython",
    "version": 2
   },
   "file_extension": ".py",
   "mimetype": "text/x-python",
   "name": "python",
   "nbconvert_exporter": "python",
   "pygments_lexer": "ipython2",
   "version": "2.7.11"
  }
 },
 "nbformat": 4,
 "nbformat_minor": 2
}
