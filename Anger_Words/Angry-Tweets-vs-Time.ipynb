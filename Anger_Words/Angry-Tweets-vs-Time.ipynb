{
 "cells": [
  {
   "cell_type": "code",
   "execution_count": 2,
   "metadata": {
    "collapsed": true,
    "deletable": true,
    "editable": true
   },
   "outputs": [],
   "source": [
    "import pandas as pd\n",
    "import numpy as np\n",
    "import re\n",
    "import os\n",
    "\n",
    "def anger(l):\n",
    "    x = [w for w in re.findall(r'\\bliar\\b|\\bliars\\b|\\blying\\b|\\blies\\b|\\bhypocrite\\b|\\bhypocrites\\b|\\bhypocrisy\\b|\\bhypocritical\\b|\\basshole\\b|\\bassholes\\b|\\bbullshit\\b|\\bdisgrace\\b|\\bdisgraces\\b|\\bdisgraced\\b|\\bdisgraceful\\b|\\bstfu\\b|\\bdisgusting\\b|\\bdisgusted\\b|\\bdisgusts\\b|\\bscum\\b|\\binfuriate\\b|\\binfuriates\\b|\\binfuriating',l)]\n",
    "    a = [w for w in re.findall(r'\\bfuck you\\b|\\bthe fuck up\\b|\\bpiece of shit\\b|\\bgo fuck yourself\\b',l)]\n",
    "    b = [w for w in re.findall(r'\\b(piss)\\b.*off',l)]\n",
    "    c = [w for w in re.findall(r'\\boff\\b.*\\b(piss)\\b',l)]\n",
    "    d = [w for w in re.findall(r'\\b(fuck)\\b.*\\boff\\b',l)]\n",
    "    e = [w for w in re.findall(r'\\boff\\b.*\\b(fuck)\\b',l)]\n",
    "    z = []\n",
    "    lists = [x,a,b,c,d,e,]\n",
    "    for q in lists:\n",
    "        for s in q:\n",
    "            z.append(s)\n",
    "    if len(z) > 0:\n",
    "        return True\n",
    "    else:\n",
    "        return False\n",
    "    \n",
    "def day(l):\n",
    "    a = str(l)\n",
    "    return a[:10]\n",
    "\n",
    "#Count angry tweets and total tweets per day in any Twitter data\n",
    "def anger_time(filepath):\n",
    "    df = pd.read_excel(filepath)\n",
    "    df['bow'] = df['TEXT'].str.lower().str.replace(r'(https?://.+|[^\\w#@]+|\\d+)+',' ').str.split()\n",
    "    df = df[df['bow'].isnull()==False].copy()\n",
    "    df = df[(df['SOURCE'].str.contains('bot', case=False)==False) | (df['SOURCE'].str.contains('tweetbot', case=False)==True)]\n",
    "    df = df[df['TEXT'].str.contains('FALSE')==False]\n",
    "    df = df[df['TEXT'].str.contains('TRUE')==False].copy()\n",
    "    df['Anger'] = df['TEXT'].str.lower().apply(anger)\n",
    "    df['Day'] = df['CREATED_AT_LOCAL'].apply(day)\n",
    "    dfangry = df[df['Anger']==True]\n",
    "    days = df.pivot_table(index='Day',values='TEXT',aggfunc=\"count\")\n",
    "    daysa = dfangry.pivot_table(index='Day',values='TEXT',aggfunc=\"count\")\n",
    "    byday = days.join(daysa, how='left',lsuffix='_total',rsuffix='_angry')\n",
    "    byday['Ratio'] = byday['TEXT_angry'] / byday['TEXT_total']\n",
    "    byday['Text %'] = byday['TEXT_total'] / byday['TEXT_total'].sum()\n",
    "    byday['Angry %'] = byday['TEXT_angry'] / byday['TEXT_angry'].sum()\n",
    "    name = os.path.basename(filepath).split('.')[0] + ' anger by day.csv'\n",
    "    byday.fillna(0).to_csv(os.path.join(os.path.dirname(filepath),name))"
   ]
  },
  {
   "cell_type": "code",
   "execution_count": null,
   "metadata": {
    "collapsed": true,
    "deletable": true,
    "editable": true
   },
   "outputs": [],
   "source": [
    "anger_time('INSERT FILEPATH')"
   ]
  }
 ],
 "metadata": {
  "kernelspec": {
   "display_name": "Python 2",
   "language": "python",
   "name": "python2"
  },
  "language_info": {
   "codemirror_mode": {
    "name": "ipython",
    "version": 2
   },
   "file_extension": ".py",
   "mimetype": "text/x-python",
   "name": "python",
   "nbconvert_exporter": "python",
   "pygments_lexer": "ipython2",
   "version": "2.7.11"
  }
 },
 "nbformat": 4,
 "nbformat_minor": 2
}
